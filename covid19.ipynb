{
  "nbformat": 4,
  "nbformat_minor": 0,
  "metadata": {
    "colab": {
      "name": "Untitled0.ipynb",
      "provenance": [],
      "authorship_tag": "ABX9TyMymNybKZk/h0hcPNXrI/sy",
      "include_colab_link": true
    },
    "kernelspec": {
      "name": "python3",
      "display_name": "Python 3"
    }
  },
  "cells": [
    {
      "cell_type": "markdown",
      "metadata": {
        "id": "view-in-github",
        "colab_type": "text"
      },
      "source": [
        "<a href=\"https://colab.research.google.com/github/sujaysc/dataScience/blob/master/covid19.ipynb\" target=\"_parent\"><img src=\"https://colab.research.google.com/assets/colab-badge.svg\" alt=\"Open In Colab\"/></a>"
      ]
    },
    {
      "cell_type": "code",
      "metadata": {
        "id": "XoQdGaSqMtbF",
        "colab_type": "code",
        "colab": {
          "base_uri": "https://localhost:8080/",
          "height": 623
        },
        "outputId": "b6773416-b82a-4748-eb6b-51c195f705ce"
      },
      "source": [
        "# -*- coding: utf-8 -*-\n",
        "\"\"\"\n",
        "Created on Fri Mar 27 21:58:25 2020\n",
        "\n",
        "@author: Padmanaban\n",
        "\"\"\"\n",
        "\n",
        "import numpy as np\n",
        "from scipy.integrate import odeint\n",
        "import matplotlib.pyplot as plt\n",
        "# total population\n",
        "N = 72100000\n",
        "\n",
        "#initial exposed\n",
        "E0 = 0\n",
        "\n",
        "# initial infected\n",
        "I0 = 5\n",
        "\n",
        "# initial recovered\n",
        "R0 = 0\n",
        "\n",
        "#initial susceptible\n",
        "S0 = N - I0 - R0 - E0\n",
        "\n",
        "# contact rate\n",
        "beta = 2/3 # R0/Infectious period\n",
        "\n",
        "# incubation rate\n",
        "sigma = 1/5 #incubation period\n",
        "\n",
        "# mean recovery rate\n",
        "gamma = 1/5  # 1/duration of hospitalization\n",
        "\n",
        "# initial conditions vector\n",
        "y0 = S0, E0, I0, R0\n",
        "# 200 evenly spaced values (representing days)\n",
        "t = np.linspace(0, 20, 20)\n",
        "\n",
        "def func(y, t, N, beta, sigma, gamma):\n",
        "    # S, I, E, R values assigned from vector\n",
        "    S, E, I, R = y\n",
        "    # differential equations\n",
        "    dSdt = -beta * S * I / N\n",
        "    dEdt = I0 * t + beta * S * I / N - sigma * E  \n",
        "    dIdt = sigma * E - gamma * I\n",
        "    dRdt = gamma * I\n",
        "    return dSdt, dEdt, dIdt, dRdt\n",
        "\n",
        "# Integrate the diff eqs over the time array\n",
        "values = odeint(func, y0, t, args=(N, beta, sigma, gamma))\n",
        "# assign S, E, I, R values from values transpose\n",
        "S, E, I, R = values.T\n",
        "print(values)\n",
        "fig = plt.figure()\n",
        "ax = fig.add_subplot(111, axisbelow=True)\n",
        "ax.plot(t, S, 'black', lw=1.5, label='Susceptible')\n",
        "ax.plot(t, E, 'green', lw=1.5, label='Exposed')\n",
        "ax.plot(t, I, 'orange', lw=1.5, label='Infected')\n",
        "ax.plot(t, R, 'blue', lw=1.5, label='Recovered')\n",
        "ax.set_xlabel('Time (days)')\n",
        "ax.set_ylabel('Number of People')\n",
        "ax.set_ylim(0,10000)\n",
        "ax.set_xlim(0,20)\n",
        "ax.grid(b=True, which='major', c='#bbbbbb', lw=1, ls='-')\n",
        "legend = ax.legend()\n",
        "legend.get_frame().set_alpha(0.5)\n",
        "plt.show()"
      ],
      "execution_count": 1,
      "outputs": [
        {
          "output_type": "stream",
          "text": [
            "[[7.20999950e+07 0.00000000e+00 5.00000000e+00 0.00000000e+00]\n",
            " [7.20999917e+07 5.52890702e+00 4.53013468e+00 9.80982385e-01]\n",
            " [7.20999883e+07 1.51826938e+01 5.60094272e+00 2.01570211e+00]\n",
            " [7.20999834e+07 2.93258425e+01 8.73427128e+00 3.48401470e+00]\n",
            " [7.20999754e+07 4.85797691e+01 1.44482234e+01 5.87428581e+00]\n",
            " [7.20999624e+07 7.37874312e+01 2.33025514e+01 9.78767769e+00]\n",
            " [7.20999418e+07 1.06008957e+02 3.59319966e+01 1.59505652e+01]\n",
            " [7.20999109e+07 1.46537264e+02 5.30745559e+01 2.52333442e+01]\n",
            " [7.20998661e+07 1.96928126e+02 7.55988238e+01 3.86750380e+01]\n",
            " [7.20998033e+07 2.59042278e+02 1.04533056e+02 5.75138018e+01]\n",
            " [7.20997176e+07 3.35099015e+02 1.41097836e+02 8.32238973e+01]\n",
            " [7.20996031e+07 4.27741883e+02 1.86743887e+02 1.17560060e+02]\n",
            " [7.20994530e+07 5.40117905e+02 2.43196475e+02 1.62610495e+02]\n",
            " [7.20992588e+07 6.75972418e+02 3.12507924e+02 2.20860046e+02]\n",
            " [7.20990108e+07 8.39762240e+02 3.97119916e+02 2.95265423e+02]\n",
            " [7.20986972e+07 1.03679046e+03 4.99937513e+02 3.89344736e+02]\n",
            " [7.20983041e+07 1.27336693e+03 6.24417172e+02 5.07284044e+02]\n",
            " [7.20978148e+07 1.55699916e+03 7.74671429e+02 6.54064153e+02]\n",
            " [7.20972097e+07 1.89661956e+03 9.55593411e+02 8.35611446e+02]\n",
            " [7.20964652e+07 2.30285559e+03 1.17300495e+03 1.05897737e+03]]\n"
          ],
          "name": "stdout"
        },
        {
          "output_type": "display_data",
          "data": {
            "image/png": "[encoded data removed]",
            "text/plain": [
              "<Figure size 432x288 with 1 Axes>"
            ]
          },
          "metadata": {
            "tags": []
          }
        }
      ]
    }
  ]
}